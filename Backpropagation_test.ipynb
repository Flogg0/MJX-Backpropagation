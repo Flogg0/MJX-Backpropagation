{
 "cells": [
  {
   "cell_type": "code",
   "execution_count": 1,
   "id": "ee759e9b-656d-446b-979f-d96eee573f3c",
   "metadata": {},
   "outputs": [],
   "source": [
    "import os\n",
    "os.environ['MUJOCO_GL'] = 'egl'\n",
    "os.environ['PATH']\n",
    "#os.environ['XLA_FLAGS']='--xla_gpu_cuda_data_dir=/usr/local/cuda-12.3'\n",
    "os.environ['XLA_FLAGS']='--xla_gpu_cuda_data_dir=/usr/local/cuda-12.1'"
   ]
  },
  {
   "cell_type": "code",
   "execution_count": 2,
   "id": "93e5835a-0bcc-478f-add5-37d0c18e45a7",
   "metadata": {},
   "outputs": [],
   "source": [
    "import jax.numpy as jp\n",
    "from mujoco import mjx\n",
    "from brax.io import html\n",
    "from IPython.display import HTML, clear_output\n",
    "import matplotlib.pyplot as plt\n",
    "import jax\n",
    "from brax import envs\n",
    "from environments.qube_mjx import Qube_mjx\n",
    "from tqdm import tqdm\n",
    "from mujoco.mjx._src.forward import forward"
   ]
  },
  {
   "cell_type": "code",
   "execution_count": 3,
   "id": "0b96a7e2-5fbb-4b71-9683-c4118a11e5b9",
   "metadata": {},
   "outputs": [],
   "source": [
    "from jax import config\n",
    "\n",
    "debug_nans=True\n",
    "config.update(\"jax_debug_nans\", debug_nans)"
   ]
  },
  {
   "cell_type": "code",
   "execution_count": null,
   "id": "00d39f11",
   "metadata": {},
   "outputs": [],
   "source": [
    "def array_to_state(x, bef_state, env):\n",
    "    pipeline_state = bef_state.pipeline_state\n",
    "    q_idx = pipeline_state.qpos.shape[0]\n",
    "\n",
    "    qd_idx = q_idx + pipeline_state.qvel.shape[0]\n",
    "    q = x[:q_idx]\n",
    "    qd = x[q_idx:qd_idx]\n",
    "    pipeline_state = pipeline_state.replace(qpos=q, qvel=qd)\n",
    "    pipeline_state = forward(env.sys, pipeline_state)\n",
    "    return bef_state.replace(pipeline_state=pipeline_state)"
   ]
  },
  {
   "cell_type": "code",
   "execution_count": 4,
   "id": "4bfc1dd7-f962-4001-add3-010cb069ebe4",
   "metadata": {},
   "outputs": [],
   "source": [
    "envs.register_environment('qube_mjx', Qube_mjx)\n",
    "env_name='qube_mjx'\n",
    "env = envs.create(env_name=env_name, auto_reset=False)\n",
    "jit_reset = jax.jit(env.reset)\n",
    "\n",
    "if debug_nans:\n",
    "    jit_step=env.unwrapped.step\n",
    "else:\n",
    "    jit_step = jax.jit(env.unwrapped.step)"
   ]
  },
  {
   "cell_type": "code",
   "execution_count": 5,
   "id": "e868b78b-6b03-46b9-b993-fb7f7549e4a0",
   "metadata": {},
   "outputs": [],
   "source": [
    "def loss_fn(state, v0, c0):\n",
    "    v0 = array_to_state(state, v0, env)\n",
    "    \n",
    "    # next states\n",
    "    v1 = jit_step(v0, jp.zeros(env.action_size))\n",
    "    c1 = jit_step(c0, jp.zeros(env.action_size))\n",
    "\n",
    "    loss_q = jp.mean(jp.square(c1.pipeline_state.qpos-v1.pipeline_state.qpos))\n",
    "    loss_q_dot = jp.mean(jp.square(c1.pipeline_state.qvel-v1.pipeline_state.qvel))\n",
    "    loss = loss_q + loss_q_dot\n",
    "    return loss\n",
    "\n",
    "grad_fn = jax.value_and_grad(loss_fn)\n",
    "\n",
    "def descent_step(v0, c0, alpha):\n",
    "    q = v0.pipeline_state.qpos\n",
    "    q_dot = v0.pipeline_state.qvel\n",
    "    state = jp.concatenate((q,q_dot))\n",
    "    val, grad = grad_fn(state, v0, c0)\n",
    "    \n",
    "    # used for debugging\n",
    "    # grad = jax.tree_util.tree_map(jp.nan_to_num,grad)\n",
    "    state = state - alpha * grad\n",
    "    v0 = array_to_state(state, v0, env)\n",
    "    return v0, val\n",
    "\n",
    "if not debug_nans:\n",
    "    descent_step = jax.jit(descent_step)\n",
    "    loss_fn = jax.jit(loss_fn)"
   ]
  },
  {
   "cell_type": "code",
   "execution_count": null,
   "id": "76be01ec-5deb-4184-a1a2-e1d5a24500cc",
   "metadata": {},
   "outputs": [
    {
     "name": "stderr",
     "output_type": "stream",
     "text": [
      "  6%|████████▊                                                                                                                              | 65/1000 [44:25<10:38:42, 40.99s/it]"
     ]
    }
   ],
   "source": [
    "losses=[]\n",
    "\n",
    "for i in range(10):\n",
    "    # init keys\n",
    "    reset_key, c_key = jax.random.split(jax.random.PRNGKey(i))\n",
    "    q_key, q_dot_key = jax.random.split(c_key)\n",
    "    \n",
    "    c0 = jit_reset(reset_key)\n",
    "\n",
    "    # some small offset to add to q\n",
    "    eps_q = jax.random.normal(q_key, shape=(c0.pipeline_state.qpos.size,))/10\n",
    "\n",
    "    # some small offset to add to q_dot\n",
    "    eps_q_dot = jax.random.normal(q_dot_key, shape=(c0.pipeline_state.qvel.size,))/10\n",
    "    \n",
    "    v0 = jit_reset(reset_key)\n",
    "    q = v0.pipeline_state.qpos\n",
    "    q_dot = v0.pipeline_state.qvel\n",
    "\n",
    "    #update rest of v0 information\n",
    "    v0 = array_to_state(jp.concatenate([q+eps_q,q_dot+eps_q_dot]),v0,env)\n",
    "\n",
    "    steps = 1000\n",
    "    alpha = 1e-1\n",
    "    loss = [loss_fn(jp.concatenate((v0.pipeline_state.qpos,v0.pipeline_state.qvel)),v0,c0)]\n",
    "    \n",
    "    # gradient descent\n",
    "    for _ in tqdm(range(steps)):\n",
    "        v0, loss_val = descent_step(v0, c0, alpha)\n",
    "        loss.append(loss_val)\n",
    "    losses.append(loss)\n"
   ]
  },
  {
   "cell_type": "code",
   "execution_count": null,
   "id": "2eb9ef8e-fc0c-4f1c-bb94-93b4edfc8596",
   "metadata": {},
   "outputs": [],
   "source": [
    "for loss in losses:\n",
    "    plt.plot(loss)\n",
    "plt.yscale('log')\n",
    "plt.show()"
   ]
  }
 ],
 "metadata": {
  "kernelspec": {
   "display_name": "Python 3 (ipykernel)",
   "language": "python",
   "name": "python3"
  },
  "language_info": {
   "codemirror_mode": {
    "name": "ipython",
    "version": 3
   },
   "file_extension": ".py",
   "mimetype": "text/x-python",
   "name": "python",
   "nbconvert_exporter": "python",
   "pygments_lexer": "ipython3",
   "version": "3.10.11"
  }
 },
 "nbformat": 4,
 "nbformat_minor": 5
}
